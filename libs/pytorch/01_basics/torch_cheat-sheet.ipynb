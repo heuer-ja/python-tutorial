{
 "cells": [
  {
   "cell_type": "code",
   "execution_count": null,
   "metadata": {},
   "outputs": [],
   "source": []
  },
  {
   "attachments": {},
   "cell_type": "markdown",
   "metadata": {},
   "source": [
    "# Cheat Cheat about Neural Network functions"
   ]
  },
  {
   "attachments": {},
   "cell_type": "markdown",
   "metadata": {},
   "source": [
    "### Forward Pass\n",
    "- `torch.flatten(input, start_dim, end_dim)` \n",
    "and \n",
    "- `x.view(x,fc1_neurons)` are two methods to flatten a Tensor in order to make it fit into 1D FC-Layer\n",
    "\n",
    "### Backward Pass\n",
    "- `loss_fn(pred, y)` e. g., `F.nll_loss(pred,y)` calculates loss (distance between predictions and truth). `pred` is 1st arg, `y` 2nd arg \n",
    "\n",
    "### Training the Model\n",
    "- `model.train()` informs model that training mode should activaten leading to different behaviour compared to , e. g., for Dropout Layer\n",
    "- `model.eval()` or `model.train(mode=False)` to tell model to activate test mode\n",
    "\n",
    "### Evaluating/Testing the Model\n",
    "- `with torch.no_grad():` disables gradient calculation\n"
   ]
  },
  {
   "cell_type": "markdown",
   "metadata": {},
   "source": []
  }
 ],
 "metadata": {
  "language_info": {
   "name": "python"
  },
  "orig_nbformat": 4
 },
 "nbformat": 4,
 "nbformat_minor": 2
}
