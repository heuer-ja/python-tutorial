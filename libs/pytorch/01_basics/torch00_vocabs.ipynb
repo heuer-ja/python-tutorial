{
 "cells": [
  {
   "attachments": {},
   "cell_type": "markdown",
   "metadata": {},
   "source": [
    "# Vocabs for Deep Learning "
   ]
  },
  {
   "attachments": {},
   "cell_type": "markdown",
   "metadata": {},
   "source": [
    "| Word | Defintion |\n",
    "|------|-----------|\n",
    "| Number of Epochs | the number times to iterate over the dataset |\n",
    "| Batch Size | the number of data samples propagated through the network before the parameters are updated |\n",
    "| Learning Rate | how much to update models parameters at each batch/epoch. Smaller values yield slow learning speed, while large values may result in unpredictable behavior during training.|\n"
   ]
  },
  {
   "cell_type": "markdown",
   "metadata": {},
   "source": []
  }
 ],
 "metadata": {
  "language_info": {
   "name": "python"
  },
  "orig_nbformat": 4
 },
 "nbformat": 4,
 "nbformat_minor": 2
}
