{
 "cells": [
  {
   "attachments": {},
   "cell_type": "markdown",
   "metadata": {},
   "source": [
    "# Loading & Saving Trained Neural Networks"
   ]
  },
  {
   "attachments": {},
   "cell_type": "markdown",
   "metadata": {},
   "source": [
    "Training takes a lot of time => loading/saving pre-trained model saves time.\n",
    "\n",
    "Functions:\n",
    "- `torch.load(str)`\n",
    "- `torch.save(object, str)`"
   ]
  },
  {
   "cell_type": "code",
   "execution_count": 8,
   "metadata": {},
   "outputs": [],
   "source": [
    "import os\n",
    "import torch \n",
    "import torch.nn as nn"
   ]
  },
  {
   "cell_type": "code",
   "execution_count": 2,
   "metadata": {},
   "outputs": [],
   "source": [
    "class SampleNN(nn.Module):\n",
    "    def __init__(self):\n",
    "        super(SampleNN, self).__init__()\n",
    "        pass \n",
    "\n",
    "    def forward(self, x):\n",
    "        pass "
   ]
  },
  {
   "cell_type": "code",
   "execution_count": 7,
   "metadata": {},
   "outputs": [],
   "source": [
    "file_name = 'my-test-network.pt'\n",
    "\n",
    "# loading network\n",
    "if os.path.isfile(file_name):\n",
    "    my_network = torch.load(file_name)\n",
    "\n",
    "else:\n",
    "    my_network = SampleNN()\n",
    "    for i in range(10):\n",
    "        '''do training'''\n",
    "        pass\n",
    "\n",
    "torch.save(my_network, file_name)"
   ]
  }
 ],
 "metadata": {
  "kernelspec": {
   "display_name": "uni",
   "language": "python",
   "name": "python3"
  },
  "language_info": {
   "codemirror_mode": {
    "name": "ipython",
    "version": 3
   },
   "file_extension": ".py",
   "mimetype": "text/x-python",
   "name": "python",
   "nbconvert_exporter": "python",
   "pygments_lexer": "ipython3",
   "version": "3.9.15"
  },
  "orig_nbformat": 4
 },
 "nbformat": 4,
 "nbformat_minor": 2
}
