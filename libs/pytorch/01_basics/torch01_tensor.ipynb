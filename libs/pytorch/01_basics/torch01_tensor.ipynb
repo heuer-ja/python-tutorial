{
 "cells": [
  {
   "attachments": {},
   "cell_type": "markdown",
   "metadata": {},
   "source": [
    "# Vectors"
   ]
  },
  {
   "attachments": {},
   "cell_type": "markdown",
   "metadata": {},
   "source": [
    "See pytorch's DOCUMENTATION about Vectors: https://pytorch.org/tutorials/beginner/basics/tensor_tutorial.html"
   ]
  },
  {
   "attachments": {},
   "cell_type": "markdown",
   "metadata": {},
   "source": [
    "Tensors store data points in different dimensions (similar to matrices). You can create, and perform maths with them. Usually they hold values for Neural Networks (input data, but also during processing).\n",
    "\n",
    "Create Tensors:\n",
    "- hardcode values\n",
    "- `torch.Tensor(d1,d2,...)`\n",
    "- `torch.randn(d1,d2,...)`\n",
    "\n",
    "Size:\n",
    "- `x.size()`\n",
    "\n",
    "\n",
    "Calculation:\n",
    "- `torch.add(x1,x2)`"
   ]
  },
  {
   "cell_type": "code",
   "execution_count": 15,
   "metadata": {},
   "outputs": [],
   "source": [
    "import torch"
   ]
  },
  {
   "attachments": {},
   "cell_type": "markdown",
   "metadata": {},
   "source": [
    "### Creating Tensors"
   ]
  },
  {
   "cell_type": "code",
   "execution_count": 11,
   "metadata": {},
   "outputs": [
    {
     "data": {
      "text/plain": [
       "tensor([[1., 2., 3., 4.],\n",
       "        [5., 6., 7., 8.]])"
      ]
     },
     "execution_count": 11,
     "metadata": {},
     "output_type": "execute_result"
    }
   ],
   "source": [
    "# Method: hardcode Tensor\n",
    "x0 = torch.Tensor([\n",
    "    [1,2,3,4],\n",
    "    [5,6,7,8]\n",
    "])\n",
    "x0"
   ]
  },
  {
   "cell_type": "code",
   "execution_count": 7,
   "metadata": {},
   "outputs": [
    {
     "data": {
      "text/plain": [
       "tensor([1.0286e-38, 9.0919e-39, 9.3674e-39, 9.2755e-39, 1.4013e-43])"
      ]
     },
     "execution_count": 7,
     "metadata": {},
     "output_type": "execute_result"
    }
   ],
   "source": [
    "# Method: torch.Tensor to create 5 x 1 tensor (vector)\n",
    "x1 = torch.Tensor(5)  \n",
    "x1"
   ]
  },
  {
   "cell_type": "code",
   "execution_count": 8,
   "metadata": {},
   "outputs": [
    {
     "data": {
      "text/plain": [
       "tensor([[7.7078e+04, 3.8956e-43, 7.7078e+04],\n",
       "        [3.8956e-43, 7.7078e+04, 3.8956e-43],\n",
       "        [7.7078e+04, 3.8956e-43, 7.7078e+04],\n",
       "        [3.8956e-43, 7.7078e+04, 3.8956e-43],\n",
       "        [7.7078e+04, 3.8956e-43, 7.7078e+04]])"
      ]
     },
     "execution_count": 8,
     "metadata": {},
     "output_type": "execute_result"
    }
   ],
   "source": [
    "# Method: torch.Tensor to create  5 x 3 tensor (matrix)\n",
    "x2 = torch.Tensor(5,3)  \n",
    "x2"
   ]
  },
  {
   "cell_type": "code",
   "execution_count": 9,
   "metadata": {},
   "outputs": [
    {
     "data": {
      "text/plain": [
       "tensor([[-0.3346, -0.9669],\n",
       "        [ 1.3559,  0.2820],\n",
       "        [-0.2368,  0.4859],\n",
       "        [-1.7264, -0.9102]])"
      ]
     },
     "execution_count": 9,
     "metadata": {},
     "output_type": "execute_result"
    }
   ],
   "source": [
    "# # Method: torch.randn() to create random tensor\n",
    "x3 = torch.randn(4,2)\n",
    "x3"
   ]
  },
  {
   "attachments": {},
   "cell_type": "markdown",
   "metadata": {},
   "source": [
    "### Size of Tensors"
   ]
  },
  {
   "cell_type": "code",
   "execution_count": 10,
   "metadata": {},
   "outputs": [
    {
     "data": {
      "text/plain": [
       "torch.Size([4, 2])"
      ]
     },
     "execution_count": 10,
     "metadata": {},
     "output_type": "execute_result"
    }
   ],
   "source": [
    "x3.size()"
   ]
  },
  {
   "attachments": {},
   "cell_type": "markdown",
   "metadata": {},
   "source": [
    "### Maths with Tensors"
   ]
  },
  {
   "cell_type": "code",
   "execution_count": 14,
   "metadata": {},
   "outputs": [
    {
     "data": {
      "text/plain": [
       "tensor([[ 2.,  0.,  2.],\n",
       "        [ 0.,  2., 11.]])"
      ]
     },
     "execution_count": 14,
     "metadata": {},
     "output_type": "execute_result"
    }
   ],
   "source": [
    "x4 = torch.Tensor([\n",
    "    [1,1,1],\n",
    "    [1,1,1]\n",
    "])\n",
    "\n",
    "x5 = torch.Tensor([\n",
    "    [1,-1,1],\n",
    "    [-1,1,10]\n",
    "])\n",
    "\n",
    "torch.add(x4,x5)"
   ]
  },
  {
   "cell_type": "code",
   "execution_count": null,
   "metadata": {},
   "outputs": [],
   "source": []
  }
 ],
 "metadata": {
  "kernelspec": {
   "display_name": "uni",
   "language": "python",
   "name": "python3"
  },
  "language_info": {
   "codemirror_mode": {
    "name": "ipython",
    "version": 3
   },
   "file_extension": ".py",
   "mimetype": "text/x-python",
   "name": "python",
   "nbconvert_exporter": "python",
   "pygments_lexer": "ipython3",
   "version": "3.9.15"
  },
  "orig_nbformat": 4
 },
 "nbformat": 4,
 "nbformat_minor": 2
}
