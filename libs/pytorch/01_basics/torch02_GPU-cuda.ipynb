{
 "cells": [
  {
   "attachments": {},
   "cell_type": "markdown",
   "metadata": {},
   "source": [
    "# GPU Usuage"
   ]
  },
  {
   "attachments": {},
   "cell_type": "markdown",
   "metadata": {},
   "source": [
    "Using GPU speed up the python script when dealing with Tensors because GPU is designed to deal a lot with matrices.\n",
    "\n",
    "Speed:\n",
    "- Slow: Moving Tensors to GPU (cuda) takes some time in the beginning, but ...\n",
    "- Fast: ... then calculation is much faster \n",
    "\n",
    "Functions:\n",
    "- boolean `torch.cuda.is_available()` - checks whether GPU is available on Machine\n",
    "- Tensor  `x.cuda()`  moves Tensor to GPU "
   ]
  },
  {
   "cell_type": "code",
   "execution_count": 1,
   "metadata": {},
   "outputs": [
    {
     "name": "stdout",
     "output_type": "stream",
     "text": [
      "NO GPU\n"
     ]
    }
   ],
   "source": [
    "import torch \n",
    "\n",
    "\n",
    "a = torch.randn(3,2)\n",
    "b = torch.randn(3,2)\n",
    "\n",
    "\n",
    "# check if GPU is available\n",
    "if torch.cuda.is_available():\n",
    "    print('GPU is used.')\n",
    "\n",
    "    # move tensors to GPU (needs some time)\n",
    "    a = a.cuda()\n",
    "    b = b.cuda()\n",
    "\n",
    "else:\n",
    "    print('NO GPU')\n",
    "\n",
    "\n",
    "# just move on normally\n",
    "torch.add(a,b)"
   ]
  }
 ],
 "metadata": {
  "kernelspec": {
   "display_name": "uni",
   "language": "python",
   "name": "python3"
  },
  "language_info": {
   "codemirror_mode": {
    "name": "ipython",
    "version": 3
   },
   "file_extension": ".py",
   "mimetype": "text/x-python",
   "name": "python",
   "nbconvert_exporter": "python",
   "pygments_lexer": "ipython3",
   "version": "3.9.15"
  },
  "orig_nbformat": 4
 },
 "nbformat": 4,
 "nbformat_minor": 2
}
