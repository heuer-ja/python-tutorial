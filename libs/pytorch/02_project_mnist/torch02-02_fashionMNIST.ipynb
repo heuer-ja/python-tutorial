{
  "nbformat": 4,
  "nbformat_minor": 0,
  "metadata": {
    "colab": {
      "provenance": []
    },
    "kernelspec": {
      "name": "python3",
      "display_name": "Python 3"
    },
    "language_info": {
      "name": "python"
    },
    "accelerator": "GPU",
    "gpuClass": "standard"
  },
  "cells": [
    {
      "cell_type": "markdown",
      "source": [
        "## Hello Team! \n",
        "This is our shared Google Colab Document.\n",
        "\n",
        "Here, we can code stuff, ideas, or do something else."
      ],
      "metadata": {
        "id": "V4G6Pwwmlyj0"
      }
    },
    {
      "cell_type": "markdown",
      "source": [
        "## Example Implentation of a CNN classifying FashionMNIST images (shoes, jackets, ...)"
      ],
      "metadata": {
        "id": "L-1gYrH_u3nZ"
      }
    },
    {
      "cell_type": "code",
      "source": [
        "# LIBRARIES\n",
        "import torch \n",
        "import torch.nn as nn   # NN super class, layer classes (Linear, Conv, Pool, ...)\n",
        "import torch.nn.functional as F # activation functions  (ReLU, Step, Sigmoid, ...)\n",
        "import torch.optim as optim # optimizer                  (SGD, Adam, ...)\n",
        "\n",
        "from torch.utils.data import DataLoader # Dataloader (for automatic batches)\n",
        "from torchvision import datasets, transforms # datasets (MNIST) & transformations for pre-processing data (convert to Tensor, Normalization)"
      ],
      "metadata": {
        "id": "nqc2njbFlhMY"
      },
      "execution_count": 1,
      "outputs": []
    },
    {
      "cell_type": "code",
      "source": [
        "# HYPERPARAMETER\n",
        "epochs = 5\n",
        "batch_size = 64\n",
        "learning_rate = 0.2"
      ],
      "metadata": {
        "id": "uF40OXlVl14z"
      },
      "execution_count": 2,
      "outputs": []
    },
    {
      "cell_type": "code",
      "source": [
        "# LOADING DATA\n",
        "path = 'data/fashion-mnist'\n",
        "\n",
        "transforms = transforms.Compose([transforms.ToTensor()])\n",
        "\n",
        "train_data = datasets.FashionMNIST(path,download=True, train= True, transform=transforms)\n",
        "test_data = datasets.FashionMNIST(path, download=True, train= False, transform=transforms)\n",
        "\n",
        "train_dataloader = DataLoader(train_data, batch_size=batch_size, shuffle=True)\n",
        "test_dataloader = DataLoader(train_data, batch_size=batch_size, shuffle=True)\n",
        "\n",
        "num_classes = len(train_data.classes)"
      ],
      "metadata": {
        "id": "RYYnPJEIl3OF",
        "colab": {
          "base_uri": "https://localhost:8080/"
        },
        "outputId": "df342099-af72-4a0c-97d3-a18c388b0309"
      },
      "execution_count": 3,
      "outputs": [
        {
          "output_type": "stream",
          "name": "stdout",
          "text": [
            "Downloading http://fashion-mnist.s3-website.eu-central-1.amazonaws.com/train-images-idx3-ubyte.gz\n",
            "Downloading http://fashion-mnist.s3-website.eu-central-1.amazonaws.com/train-images-idx3-ubyte.gz to data/fashion-mnist/FashionMNIST/raw/train-images-idx3-ubyte.gz\n"
          ]
        },
        {
          "output_type": "stream",
          "name": "stderr",
          "text": [
            "100%|██████████| 26421880/26421880 [00:01<00:00, 15701331.76it/s]\n"
          ]
        },
        {
          "output_type": "stream",
          "name": "stdout",
          "text": [
            "Extracting data/fashion-mnist/FashionMNIST/raw/train-images-idx3-ubyte.gz to data/fashion-mnist/FashionMNIST/raw\n",
            "\n",
            "Downloading http://fashion-mnist.s3-website.eu-central-1.amazonaws.com/train-labels-idx1-ubyte.gz\n",
            "Downloading http://fashion-mnist.s3-website.eu-central-1.amazonaws.com/train-labels-idx1-ubyte.gz to data/fashion-mnist/FashionMNIST/raw/train-labels-idx1-ubyte.gz\n"
          ]
        },
        {
          "output_type": "stream",
          "name": "stderr",
          "text": [
            "100%|██████████| 29515/29515 [00:00<00:00, 305628.64it/s]\n"
          ]
        },
        {
          "output_type": "stream",
          "name": "stdout",
          "text": [
            "Extracting data/fashion-mnist/FashionMNIST/raw/train-labels-idx1-ubyte.gz to data/fashion-mnist/FashionMNIST/raw\n",
            "\n",
            "Downloading http://fashion-mnist.s3-website.eu-central-1.amazonaws.com/t10k-images-idx3-ubyte.gz\n",
            "Downloading http://fashion-mnist.s3-website.eu-central-1.amazonaws.com/t10k-images-idx3-ubyte.gz to data/fashion-mnist/FashionMNIST/raw/t10k-images-idx3-ubyte.gz\n"
          ]
        },
        {
          "output_type": "stream",
          "name": "stderr",
          "text": [
            "100%|██████████| 4422102/4422102 [00:00<00:00, 5123438.11it/s]\n"
          ]
        },
        {
          "output_type": "stream",
          "name": "stdout",
          "text": [
            "Extracting data/fashion-mnist/FashionMNIST/raw/t10k-images-idx3-ubyte.gz to data/fashion-mnist/FashionMNIST/raw\n",
            "\n",
            "Downloading http://fashion-mnist.s3-website.eu-central-1.amazonaws.com/t10k-labels-idx1-ubyte.gz\n",
            "Downloading http://fashion-mnist.s3-website.eu-central-1.amazonaws.com/t10k-labels-idx1-ubyte.gz to data/fashion-mnist/FashionMNIST/raw/t10k-labels-idx1-ubyte.gz\n"
          ]
        },
        {
          "output_type": "stream",
          "name": "stderr",
          "text": [
            "100%|██████████| 5148/5148 [00:00<00:00, 23806259.09it/s]\n"
          ]
        },
        {
          "output_type": "stream",
          "name": "stdout",
          "text": [
            "Extracting data/fashion-mnist/FashionMNIST/raw/t10k-labels-idx1-ubyte.gz to data/fashion-mnist/FashionMNIST/raw\n",
            "\n"
          ]
        }
      ]
    },
    {
      "cell_type": "code",
      "source": [
        "# PLOTTING DATA\n",
        "import matplotlib.pyplot as plt\n",
        "\n",
        "# Get one batch of images from train_dataloader\n",
        "dataiter = iter(train_dataloader)\n",
        "images, labels = next(dataiter)\n",
        "\n",
        "# Display three images\n",
        "fig, axs = plt.subplots(1, 3, figsize=(10, 5))\n",
        "for i in range(3):\n",
        "    axs[i].imshow(images[i].squeeze(), cmap='gray')\n",
        "    axs[i].set_title(f\"{test_data.classes[labels[i]]}\")\n",
        "plt.show()"
      ],
      "metadata": {
        "colab": {
          "base_uri": "https://localhost:8080/",
          "height": 310
        },
        "id": "HdEiQqlXpWPs",
        "outputId": "ddb5e185-527f-4556-f8ee-f54a6704e731"
      },
      "execution_count": 71,
      "outputs": [
        {
          "output_type": "display_data",
          "data": {
            "text/plain": [
              "<Figure size 1000x500 with 3 Axes>"
            ],
            "image/png": "[encoded data removed]"
          },
          "metadata": {}
        }
      ]
    },
    {
      "cell_type": "code",
      "source": [
        "# DETERMINE SIZE OF INPUT LAYER OF 1. FULLY CONNECTED LAYER\n",
        "images, _ = next(iter(train_dataloader))\n",
        "\n",
        "# define all other layers\n",
        "conv1 = nn.Conv2d(in_channels=1, out_channels=32, kernel_size=2)\n",
        "pool1 = nn.MaxPool2d(2,2)\n",
        "conv2 = nn.Conv2d(in_channels=32, out_channels=64, kernel_size=2)\n",
        "pool2 = nn.MaxPool2d(2,2)\n",
        "\n",
        "imgs_forwarded = pool2(conv2(pool1(conv1(images))))\n",
        "img_shape     = imgs_forwarded.size()\n",
        "\n",
        "fc1_layer_input_size = img_shape[1] * img_shape[2] * img_shape[3] # IMPORTANT FOR THE 1. nn.Linear(in_features=) \n",
        "print(f'''Shape is {img_shape}, \n",
        "so Fully-Connected Layer input layer has size {img_shape[1]}*{img_shape[2]}*{img_shape[3]}={img_shape[1]*img_shape[2]*img_shape[3]}''') \n"
      ],
      "metadata": {
        "colab": {
          "base_uri": "https://localhost:8080/"
        },
        "id": "Bb_uvRt8n5E1",
        "outputId": "0210e494-a381-4ed2-a752-1667b539ebbc"
      },
      "execution_count": 7,
      "outputs": [
        {
          "output_type": "stream",
          "name": "stdout",
          "text": [
            "Shape is torch.Size([64, 64, 6, 6]), \n",
            "so Fully-Connected Layer input layer has size 64*6*6=2304\n"
          ]
        }
      ]
    },
    {
      "cell_type": "code",
      "source": [
        "# CREATE CONV. NEURAL NETWORK\n",
        "class MyCNN(nn.Module):\n",
        "  def __init__(self):\n",
        "    super(MyCNN, self).__init__()\n",
        "\n",
        "    self.conv_layers = nn.Sequential(\n",
        "        conv1, \n",
        "        nn.ReLU(),\n",
        "        pool1, \n",
        "\n",
        "        conv2,\n",
        "        nn.ReLU(),\n",
        "        pool2,\n",
        "\n",
        "        nn.Dropout2d(0.5),\n",
        "        nn.Flatten()\n",
        "      )\n",
        "\n",
        "    self.fc_layers = nn.Sequential(\n",
        "        nn.Linear(in_features=fc1_layer_input_size, out_features=64),\n",
        "        nn.ReLU(),\n",
        "        nn.Linear(64, num_classes)\n",
        "    )\n",
        "\n",
        "  def forward(self, x):\n",
        "    x = self.conv_layers(x)\n",
        "    x = self.fc_layers(x)\n",
        "\n",
        "    # compute probabilities for each class \n",
        "    return F.log_softmax(x, -1)"
      ],
      "metadata": {
        "id": "M57PvDXwl5sH"
      },
      "execution_count": 8,
      "outputs": []
    },
    {
      "cell_type": "code",
      "source": [
        "# PLOT \n",
        "def plot_loss(losses):\n",
        "    epochs = range(1, len(losses) + 1)\n",
        "    \n",
        "    plt.plot(epochs, losses, label='Training loss')\n",
        "    plt.title('Training Loss')\n",
        "    plt.xlabel('Epochs')\n",
        "    plt.ylabel('Loss')\n",
        "\n",
        "    # set x-axis ticks to integers only\n",
        "    xint = range(min(epochs), max(epochs)+1)\n",
        "    plt.xticks(xint)\n",
        "\n",
        "    plt.legend()\n",
        "    plt.show()"
      ],
      "metadata": {
        "id": "u-vVgjVWaVOO"
      },
      "execution_count": 19,
      "outputs": []
    },
    {
      "cell_type": "code",
      "source": [
        "# FUNCTIONS FOR TRAIN & EVAL\n",
        "def train(model:nn.Module, optimizer:optim.Optimizer, dataloader:DataLoader, loss_fn):\n",
        "  model.train()\n",
        "  n_batches = len(dataloader)\n",
        "\n",
        "  losses = []\n",
        "\n",
        "  for i_epoch in range(epochs):\n",
        "    loss_epoch = 0.0\n",
        "\n",
        "    for i_batch, (X,y) in enumerate(dataloader):\n",
        "        # move images to GPU\n",
        "        X,y = X.to(device), y.to(device)\n",
        "\n",
        "        # predict\n",
        "        pred = model(X)\n",
        "\n",
        "        # calculate loss\n",
        "        loss = loss_fn(pred, y)\n",
        "        loss_epoch += loss\n",
        "\n",
        "\n",
        "        # update weights based on loss\n",
        "        optimizer.zero_grad()\n",
        "        loss.backward()\n",
        "        optimizer.step()\n",
        "\n",
        "        # print progress\n",
        "        if i_batch % 250 == 0:\n",
        "          print(f'Epoch\\t{i_epoch+1}/{epochs}\\t\\tBatch\\t{i_batch}/{n_batches}\\t({(100. * i_batch / n_batches):.1f}%)\\t\\tLoss\\t{loss:.4f}')\n",
        "\n",
        "    losses.append(loss_epoch / n_batches)\n",
        "  return losses \n",
        "\n",
        "\n",
        "\n",
        "def test(model:nn.Module, dataloader:DataLoader, loss_fn):\n",
        "  model.eval()\n",
        "  num_samples = 0\n",
        "  num_correct = 0\n",
        "\n",
        "  with torch.no_grad():\n",
        "    for _, (X,y) in enumerate(dataloader):\n",
        "      # move images to GPU\n",
        "      X,y = X.to(device), y.to(device)\n",
        "\n",
        "      # predict\n",
        "      pred = model(X)\n",
        "\n",
        "      # extract prediction (max. value in tensor)\n",
        "      _, pred = torch.max(pred, 1)\n",
        "\n",
        "      # count \n",
        "      num_samples += y.size(0)\n",
        "      num_correct += (pred==y).sum().item()\n",
        "\n",
        "\n",
        "    acc = 100 * num_correct / num_samples\n",
        "\n",
        "\n",
        "    print(f'Accuracy is {acc:.2f}%') "
      ],
      "metadata": {
        "id": "QrEdi00mysso"
      },
      "execution_count": 10,
      "outputs": []
    },
    {
      "cell_type": "code",
      "source": [
        "# ACTIVATE GPU / CUDA (if available)\n",
        "device = torch.device('cuda' if torch.cuda.is_available() else 'cpu')\n",
        "print('Using device: ', device)\n",
        "\n",
        "\n",
        "# EXECUTE / TRAIN MODEL\n",
        "my_model = MyCNN().to(device)\n",
        "\n",
        "optimizer = optim.SGD(my_model.parameters(), lr=learning_rate)\n",
        "criterion = F.nll_loss\n",
        "\n",
        "# TRAIN MODEL (TRAIN DATA)\n",
        "losses = train(model=my_model, optimizer=optimizer, dataloader=train_dataloader, loss_fn=criterion)"
      ],
      "metadata": {
        "colab": {
          "base_uri": "https://localhost:8080/"
        },
        "id": "JfE7042F0sVo",
        "outputId": "c4833905-f5a1-4565-83ef-975f710980c5"
      },
      "execution_count": 11,
      "outputs": [
        {
          "output_type": "stream",
          "name": "stdout",
          "text": [
            "Using device:  cuda\n",
            "Epoch\t1/5\t\tBatch\t0/938\t(0.0%)\t\tLoss\t2.3078\n",
            "Epoch\t1/5\t\tBatch\t250/938\t(26.7%)\t\tLoss\t0.8260\n",
            "Epoch\t1/5\t\tBatch\t500/938\t(53.3%)\t\tLoss\t0.5340\n",
            "Epoch\t1/5\t\tBatch\t750/938\t(80.0%)\t\tLoss\t0.3362\n",
            "Epoch\t2/5\t\tBatch\t0/938\t(0.0%)\t\tLoss\t0.5453\n",
            "Epoch\t2/5\t\tBatch\t250/938\t(26.7%)\t\tLoss\t0.5009\n",
            "Epoch\t2/5\t\tBatch\t500/938\t(53.3%)\t\tLoss\t0.3517\n",
            "Epoch\t2/5\t\tBatch\t750/938\t(80.0%)\t\tLoss\t0.4498\n",
            "Epoch\t3/5\t\tBatch\t0/938\t(0.0%)\t\tLoss\t0.5423\n",
            "Epoch\t3/5\t\tBatch\t250/938\t(26.7%)\t\tLoss\t0.3551\n",
            "Epoch\t3/5\t\tBatch\t500/938\t(53.3%)\t\tLoss\t0.3901\n",
            "Epoch\t3/5\t\tBatch\t750/938\t(80.0%)\t\tLoss\t0.4991\n",
            "Epoch\t4/5\t\tBatch\t0/938\t(0.0%)\t\tLoss\t0.3164\n",
            "Epoch\t4/5\t\tBatch\t250/938\t(26.7%)\t\tLoss\t0.2367\n",
            "Epoch\t4/5\t\tBatch\t500/938\t(53.3%)\t\tLoss\t0.2983\n",
            "Epoch\t4/5\t\tBatch\t750/938\t(80.0%)\t\tLoss\t0.3003\n",
            "Epoch\t5/5\t\tBatch\t0/938\t(0.0%)\t\tLoss\t0.4082\n",
            "Epoch\t5/5\t\tBatch\t250/938\t(26.7%)\t\tLoss\t0.3131\n",
            "Epoch\t5/5\t\tBatch\t500/938\t(53.3%)\t\tLoss\t0.2874\n",
            "Epoch\t5/5\t\tBatch\t750/938\t(80.0%)\t\tLoss\t0.2959\n"
          ]
        }
      ]
    },
    {
      "cell_type": "code",
      "source": [
        "# PLOT LOSS DURING TRAINING\n",
        "plot_loss(torch.Tensor(losses).cpu())"
      ],
      "metadata": {
        "colab": {
          "base_uri": "https://localhost:8080/",
          "height": 472
        },
        "id": "VAX3q7uxky_v",
        "outputId": "3a196d59-f925-46fa-a7fc-5cfb51dd0038"
      },
      "execution_count": 20,
      "outputs": [
        {
          "output_type": "display_data",
          "data": {
            "text/plain": [
              "<Figure size 640x480 with 1 Axes>"
            ],
            "image/png": "[encoded data removed]"
          },
          "metadata": {}
        }
      ]
    },
    {
      "cell_type": "code",
      "source": [
        "# TEST MODEL WITH UNSEEN DATA (TEST DATA)\n",
        "\n",
        "test(model=my_model, dataloader=test_dataloader, loss_fn=criterion)\n"
      ],
      "metadata": {
        "colab": {
          "base_uri": "https://localhost:8080/"
        },
        "id": "TXcCw6nw1ilJ",
        "outputId": "5cfbdd94-f251-442e-8e30-74cfba9f422d"
      },
      "execution_count": 21,
      "outputs": [
        {
          "output_type": "stream",
          "name": "stdout",
          "text": [
            "Accuracy is 85.92%\n"
          ]
        }
      ]
    },
    {
      "cell_type": "code",
      "source": [
        "# PREDICT NUMBERS WITH MODEL\n",
        "\n",
        "# take one img\n",
        "img, label = next(iter(test_dataloader))\n",
        "img = img.to(device)[0]\n",
        "label = label[0]\n",
        "\n",
        "\n",
        "# predict\n",
        "my_model.eval()\n",
        "with torch.no_grad():\n",
        "  pred = my_model(img.unsqueeze(0))\n",
        "  _, pred = torch.max(pred.data,dim=1)\n",
        "\n",
        "plt.imshow(img.squeeze().cpu().numpy(), cmap='gray')\n",
        "plt.title(f'True: {test_data.classes[label.item()]} & Predicted: {test_data.classes[pred.item()]}')\n",
        "plt.show()\n",
        "\n",
        "is_true = 'TRUE' if label.item() == pred.item() else 'FALSE'\n",
        "print(f'Classification is {is_true}')"
      ],
      "metadata": {
        "id": "aLctDJqe7BJu",
        "colab": {
          "base_uri": "https://localhost:8080/",
          "height": 469
        },
        "outputId": "fb8bbf48-03a2-46fa-9857-25465b297bca"
      },
      "execution_count": 69,
      "outputs": [
        {
          "output_type": "display_data",
          "data": {
            "text/plain": [
              "<Figure size 640x480 with 1 Axes>"
            ],
            "image/png": "[encoded data removed]"
          },
          "metadata": {}
        },
        {
          "output_type": "stream",
          "name": "stdout",
          "text": [
            "Classification is TRUE\n"
          ]
        }
      ]
    }
  ]
}