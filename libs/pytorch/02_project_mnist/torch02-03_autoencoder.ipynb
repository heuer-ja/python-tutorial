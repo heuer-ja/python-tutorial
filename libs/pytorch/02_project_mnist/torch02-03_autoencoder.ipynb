{
 "cells": [
  {
   "attachments": {},
   "cell_type": "markdown",
   "metadata": {},
   "source": [
    "# (Traditional) Autoencoder"
   ]
  },
  {
   "cell_type": "code",
   "execution_count": 1,
   "metadata": {},
   "outputs": [],
   "source": [
    "import torch  \n",
    "import torch.nn as nn\n",
    "import torch.nn.functional as F\n",
    "import torch.optim as optim \n",
    "\n",
    "from torch.utils.data import DataLoader\n",
    "from torchvision import transforms, datasets\n",
    "\n",
    "from typing import List"
   ]
  },
  {
   "cell_type": "code",
   "execution_count": 2,
   "metadata": {},
   "outputs": [],
   "source": [
    "# HYPERPARAMETER\n",
    "batch_size =  64\n",
    "epochs = 3\n",
    "lr = 0.1"
   ]
  },
  {
   "attachments": {},
   "cell_type": "markdown",
   "metadata": {},
   "source": [
    "### Data"
   ]
  },
  {
   "cell_type": "code",
   "execution_count": 3,
   "metadata": {},
   "outputs": [],
   "source": [
    "# DATA LOADER\n",
    "transforms = transforms.ToTensor()\n",
    "\n",
    "train_data = datasets.MNIST('data/mnist', train=True, download=True, transform=transforms)\n",
    "test_data  = datasets.MNIST('data/mnist', train=False, download=True, transform=transforms)\n",
    "\n",
    "train_dataloader = DataLoader(train_data, batch_size=batch_size, shuffle=True)\n",
    "test_dataloader = DataLoader(test_data, batch_size=batch_size, shuffle=True)"
   ]
  },
  {
   "cell_type": "code",
   "execution_count": 4,
   "metadata": {},
   "outputs": [
    {
     "name": "stdout",
     "output_type": "stream",
     "text": [
      "tensor(0.) tensor(1.)\n"
     ]
    }
   ],
   "source": [
    "# DATA: look at pixels value range (important for activation function in decoder)\n",
    "imgs, labels = next(iter(train_dataloader))\n",
    "\n",
    "print( torch.min(imgs)  , torch.max(imgs) )"
   ]
  },
  {
   "attachments": {},
   "cell_type": "markdown",
   "metadata": {},
   "source": [
    "### Autoencoder classes"
   ]
  },
  {
   "cell_type": "code",
   "execution_count": 5,
   "metadata": {},
   "outputs": [],
   "source": [
    "class Autoencoder_Linear(nn.Module):\n",
    "    '''AE using fully connected layers'''\n",
    "    def __init__(self):\n",
    "        super().__init__()\n",
    "\n",
    "        self.encoder = nn.Sequential(\n",
    "            nn.Linear(28*28, 128),\n",
    "            nn.ReLU(),\n",
    "            nn.Linear(128, 48),\n",
    "            nn.ReLU(),\n",
    "            nn.Linear(48, 2),\n",
    "        ) \n",
    "        \n",
    "        self.decoder = nn.Sequential(\n",
    "            nn.Linear(2, 48),\n",
    "            nn.ReLU(),\n",
    "            nn.Linear(48, 128),\n",
    "            nn.ReLU(),\n",
    "            nn.Linear(128, 28*28),\n",
    "            nn.Sigmoid()\n",
    "        )\n",
    "        return\n",
    "\n",
    "    def forward(self, x):\n",
    "        return self.decoder(self.encoder(x))"
   ]
  },
  {
   "cell_type": "code",
   "execution_count": 6,
   "metadata": {},
   "outputs": [],
   "source": [
    "class Autoencoder_Conv(nn.Module):\n",
    "    def __init__(self):\n",
    "        super().__init__()\n",
    "\n",
    "        pass \n",
    "\n",
    "    def forward(self, x):\n",
    "        pass "
   ]
  },
  {
   "attachments": {},
   "cell_type": "markdown",
   "metadata": {},
   "source": [
    "### Train & Test functions"
   ]
  },
  {
   "cell_type": "code",
   "execution_count": 7,
   "metadata": {},
   "outputs": [],
   "source": [
    "def train(epochs: int, model: nn.Module, dataloader: DataLoader, optimizer: optim.Optimizer, criterion) -> List[float]:\n",
    "    model.train()\n",
    "    \n",
    "    n_batches = len(dataloader)\n",
    "    losses: List[float] = []\n",
    "\n",
    "    for i_epoch in range(epochs):\n",
    "        loss_epoch = 0\n",
    "        for i_batch, (X,_) in enumerate(dataloader):\n",
    "            # adjust shahpe of tensor, so that it fits into first layer\n",
    "            X = X.reshape(-1, 28*28) \n",
    "\n",
    "            # pred (encode & decode)\n",
    "            recon = model(X)\n",
    "\n",
    "            # loss (how much difference between each pixel)\n",
    "            loss = criterion(recon, X)\n",
    "            loss_epoch += loss\n",
    "\n",
    "            # backward\n",
    "            optimizer.zero_grad()\n",
    "            loss.backward()\n",
    "            optimizer.step()\n",
    "            \n",
    "            # print\n",
    "            if i_batch % 250 == 0:\n",
    "                print(f'Epoch\\t{i_epoch+1}/{epochs}\\t\\tBatch\\t{i_batch}/{n_batches}\\t({(100. * i_batch / n_batches):.1f}%)\\t\\tLoss\\t{loss:.4f}')\n",
    "        \n",
    "        loss_epoch = loss_epoch / n_batches\n",
    "        losses.append(loss_epoch)\n",
    "    \n",
    "    return losses\n"
   ]
  },
  {
   "cell_type": "code",
   "execution_count": 15,
   "metadata": {},
   "outputs": [],
   "source": [
    "def test(model:nn.Module, dataloader:DataLoader, criterion) -> None:\n",
    "    model.eval()\n",
    "\n",
    "    n_batches = len(dataloader)\n",
    "    loss = 0\n",
    "\n",
    "    with torch.no_grad():\n",
    "        for i_batch, (X,_) in enumerate(dataloader):\n",
    "            X = X.reshape(-1,  28*28)\n",
    "\n",
    "            # pred \n",
    "            recon = model(X)\n",
    "\n",
    "            # loss\n",
    "            loss += criterion(recon, X)\n",
    "\n",
    "        loss = loss / n_batches\n",
    "\n",
    "    return loss"
   ]
  },
  {
   "attachments": {},
   "cell_type": "markdown",
   "metadata": {},
   "source": [
    "### Visualization"
   ]
  },
  {
   "cell_type": "code",
   "execution_count": 9,
   "metadata": {},
   "outputs": [],
   "source": [
    "import matplotlib.pyplot as plt \n",
    "\n",
    "def plot_losses(losses: List[float]) -> None:\n",
    "    '''plots loss per epoch'''\n",
    "    epochs = range(1, len(losses)+1)\n",
    "\n",
    "    xticks = range(min(epochs), max(epochs)+1) # transforms into integer\n",
    "\n",
    "    plt.plot(epochs, losses)\n",
    "    plt.title('Loss per epoch'), plt.ylabel('Loss'),  plt.xlabel('Epoch')\n",
    "    plt.xticks(xticks)\n",
    "    plt.legend()\n",
    "    plt.show()\n",
    "\n",
    "    return"
   ]
  },
  {
   "attachments": {},
   "cell_type": "markdown",
   "metadata": {},
   "source": [
    "### Training"
   ]
  },
  {
   "cell_type": "code",
   "execution_count": 10,
   "metadata": {},
   "outputs": [],
   "source": [
    "model = Autoencoder_Linear()\n",
    "criterion = nn.MSELoss()\n",
    "optimizer = optim.SGD(model.parameters(), lr=lr)"
   ]
  },
  {
   "cell_type": "code",
   "execution_count": 11,
   "metadata": {},
   "outputs": [
    {
     "name": "stdout",
     "output_type": "stream",
     "text": [
      "Epoch\t1/3\t\tBatch\t0/938\t(0.0%)\t\tLoss\t0.2322\n",
      "Epoch\t1/3\t\tBatch\t250/938\t(26.7%)\t\tLoss\t0.2247\n",
      "Epoch\t1/3\t\tBatch\t500/938\t(53.3%)\t\tLoss\t0.2130\n",
      "Epoch\t1/3\t\tBatch\t750/938\t(80.0%)\t\tLoss\t0.1787\n",
      "Epoch\t2/3\t\tBatch\t0/938\t(0.0%)\t\tLoss\t0.0956\n",
      "Epoch\t2/3\t\tBatch\t250/938\t(26.7%)\t\tLoss\t0.0752\n",
      "Epoch\t2/3\t\tBatch\t500/938\t(53.3%)\t\tLoss\t0.0716\n",
      "Epoch\t2/3\t\tBatch\t750/938\t(80.0%)\t\tLoss\t0.0670\n",
      "Epoch\t3/3\t\tBatch\t0/938\t(0.0%)\t\tLoss\t0.0672\n",
      "Epoch\t3/3\t\tBatch\t250/938\t(26.7%)\t\tLoss\t0.0649\n",
      "Epoch\t3/3\t\tBatch\t500/938\t(53.3%)\t\tLoss\t0.0660\n",
      "Epoch\t3/3\t\tBatch\t750/938\t(80.0%)\t\tLoss\t0.0704\n"
     ]
    }
   ],
   "source": [
    "losses = train(epochs, model, train_dataloader, optimizer, criterion)"
   ]
  },
  {
   "cell_type": "code",
   "execution_count": 12,
   "metadata": {},
   "outputs": [
    {
     "name": "stderr",
     "output_type": "stream",
     "text": [
      "No artists with labels found to put in legend.  Note that artists whose label start with an underscore are ignored when legend() is called with no argument.\n"
     ]
    },
    {
     "data": {
      "image/png": "[encoded data removed]",
      "text/plain": [
       "<Figure size 640x480 with 1 Axes>"
      ]
     },
     "metadata": {},
     "output_type": "display_data"
    }
   ],
   "source": [
    "plot_losses(torch.Tensor(losses))"
   ]
  },
  {
   "cell_type": "code",
   "execution_count": 17,
   "metadata": {},
   "outputs": [
    {
     "data": {
      "text/plain": [
       "0.06839210540056229"
      ]
     },
     "execution_count": 17,
     "metadata": {},
     "output_type": "execute_result"
    }
   ],
   "source": [
    "test(model, test_dataloader,  criterion).item()"
   ]
  },
  {
   "cell_type": "code",
   "execution_count": null,
   "metadata": {},
   "outputs": [],
   "source": []
  }
 ],
 "metadata": {
  "kernelspec": {
   "display_name": "uni",
   "language": "python",
   "name": "python3"
  },
  "language_info": {
   "codemirror_mode": {
    "name": "ipython",
    "version": 3
   },
   "file_extension": ".py",
   "mimetype": "text/x-python",
   "name": "python",
   "nbconvert_exporter": "python",
   "pygments_lexer": "ipython3",
   "version": "3.9.15"
  },
  "orig_nbformat": 4
 },
 "nbformat": 4,
 "nbformat_minor": 2
}
